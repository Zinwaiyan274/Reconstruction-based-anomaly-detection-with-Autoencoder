{
  "nbformat": 4,
  "nbformat_minor": 0,
  "metadata": {
    "colab": {
      "provenance": [],
      "authorship_tag": "ABX9TyMA2j8FhatiJFUbOlA98SW/",
      "include_colab_link": true
    },
    "kernelspec": {
      "name": "python3",
      "display_name": "Python 3"
    },
    "language_info": {
      "name": "python"
    }
  },
  "cells": [
    {
      "cell_type": "markdown",
      "metadata": {
        "id": "view-in-github",
        "colab_type": "text"
      },
      "source": [
        "<a href=\"https://colab.research.google.com/github/Zinwaiyan274/Reconstruction-based-anomaly-detection-with-Autoencoder/blob/main/Reconstruction_anomaly_detection_with_Autoencoder.ipynb\" target=\"_parent\"><img src=\"https://colab.research.google.com/assets/colab-badge.svg\" alt=\"Open In Colab\"/></a>"
      ]
    },
    {
      "cell_type": "code",
      "execution_count": 1,
      "metadata": {
        "colab": {
          "base_uri": "https://localhost:8080/"
        },
        "id": "WXkre-Kez5pf",
        "outputId": "da0f6b10-6210-4b01-e297-1d0e7ff4bae9"
      },
      "outputs": [
        {
          "output_type": "stream",
          "name": "stdout",
          "text": [
            "Downloading data from https://storage.googleapis.com/tensorflow/tf-keras-datasets/mnist.npz\n",
            "11490434/11490434 [==============================] - 1s 0us/step\n",
            "Epoch 1/10\n",
            "469/469 [==============================] - 20s 38ms/step - loss: 0.0450 - val_loss: 0.0223\n",
            "Epoch 2/10\n",
            "469/469 [==============================] - 6s 12ms/step - loss: 0.0171 - val_loss: 0.0127\n",
            "Epoch 3/10\n",
            "469/469 [==============================] - 6s 14ms/step - loss: 0.0107 - val_loss: 0.0086\n",
            "Epoch 4/10\n",
            "469/469 [==============================] - 7s 15ms/step - loss: 0.0077 - val_loss: 0.0066\n",
            "Epoch 5/10\n",
            "469/469 [==============================] - 6s 13ms/step - loss: 0.0062 - val_loss: 0.0055\n",
            "Epoch 6/10\n",
            "469/469 [==============================] - 6s 13ms/step - loss: 0.0054 - val_loss: 0.0049\n",
            "Epoch 7/10\n",
            "469/469 [==============================] - 7s 14ms/step - loss: 0.0049 - val_loss: 0.0046\n",
            "Epoch 8/10\n",
            "469/469 [==============================] - 6s 13ms/step - loss: 0.0046 - val_loss: 0.0044\n",
            "Epoch 9/10\n",
            "469/469 [==============================] - 7s 15ms/step - loss: 0.0044 - val_loss: 0.0043\n",
            "Epoch 10/10\n",
            "469/469 [==============================] - 6s 14ms/step - loss: 0.0043 - val_loss: 0.0041\n",
            "313/313 [==============================] - 1s 3ms/step\n",
            "Detected anomalies:\n",
            "[   1   11   15 ... 9976 9980 9999]\n"
          ]
        }
      ],
      "source": [
        "import numpy as np\n",
        "import tensorflow as tf\n",
        "\n",
        "# Define the Autoencoder model\n",
        "class Autoencoder(tf.keras.Model):\n",
        "    def __init__(self, latent_dim):\n",
        "        super(Autoencoder, self).__init__()\n",
        "        self.latent_dim = latent_dim\n",
        "        self.encoder = tf.keras.Sequential([\n",
        "            tf.keras.layers.Flatten(),\n",
        "            tf.keras.layers.Dense(latent_dim, activation='relu')\n",
        "        ])\n",
        "        self.decoder = tf.keras.Sequential([\n",
        "            tf.keras.layers.Dense(784, activation='sigmoid'),\n",
        "            tf.keras.layers.Reshape((28, 28))\n",
        "        ])\n",
        "\n",
        "    def call(self, x):\n",
        "        encoded = self.encoder(x)\n",
        "        decoded = self.decoder(encoded)\n",
        "        return decoded\n",
        "\n",
        "# Load and preprocess your training data (assuming MNIST dataset here)\n",
        "(x_train, _), (x_test, _) = tf.keras.datasets.mnist.load_data()\n",
        "x_train = x_train.astype('float32') / 255.\n",
        "x_test = x_test.astype('float32') / 255.\n",
        "\n",
        "# Create an instance of the Autoencoder model\n",
        "latent_dim = 64\n",
        "autoencoder = Autoencoder(latent_dim)\n",
        "\n",
        "# Compile and train the Autoencoder\n",
        "autoencoder.compile(optimizer='adam', loss='mse')\n",
        "autoencoder.fit(x_train, x_train, epochs=10, batch_size=128, shuffle=True, validation_data=(x_test, x_test))\n",
        "\n",
        "# Reconstruction error calculation and anomaly detection\n",
        "reconstructions = autoencoder.predict(x_test)\n",
        "mse = np.mean(np.power(x_test - reconstructions, 2), axis=(1, 2))  # Compute mean squared error\n",
        "threshold = np.mean(mse) + np.std(mse)  # Set threshold as mean + standard deviation\n",
        "\n",
        "# Classify images as anomalies or not based on the threshold\n",
        "predictions = mse > threshold\n",
        "anomaly_indices = np.where(predictions == True)[0]\n",
        "\n",
        "# Print the indices of detected anomalies\n",
        "print(\"Detected anomalies:\")\n",
        "print(anomaly_indices)\n"
      ]
    }
  ]
}